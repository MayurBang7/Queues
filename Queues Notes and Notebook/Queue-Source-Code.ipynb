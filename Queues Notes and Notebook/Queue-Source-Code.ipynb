{
 "cells": [
  {
   "cell_type": "code",
   "execution_count": 1,
   "metadata": {},
   "outputs": [],
   "source": [
    "class Message:\n",
    "    def __init__(self, fromaddr, toaddr, content):\n",
    "        self.fromname = fromaddr\n",
    "        self.toname = toaddr\n",
    "        self.content = content\n",
    "        self.next = None\n",
    "        self.prev = None\n",
    "    \n",
    "    def __str__(self):\n",
    "        return \"<{}:{},{}>\".format(self.fromname, self.toname, self.content)\n"
   ]
  },
  {
   "cell_type": "code",
   "execution_count": 2,
   "metadata": {
    "scrolled": true
   },
   "outputs": [],
   "source": [
    "class Queue:\n",
    "    def __init__(self):\n",
    "        self.head = Message(-1,-1,\"dummy\")\n",
    "        #This node is fixed as the rear of the queue since subsequent insertions happen at head we need to maintain the tail \n",
    "        self.rear = self.head \n",
    "        self.count = 0\n",
    "    \n",
    "    def display(self):\n",
    "        if self.count == 0 : \n",
    "            print(\"<Empty>\")\n",
    "            return self.count\n",
    "\n",
    "        curr = self.head\n",
    "        while curr != self.rear:\n",
    "            print(curr,end='')\n",
    "            curr = curr.next\n",
    "        print()\n",
    "        return self.count\n",
    "    \n",
    "    def enqueue(self,*t): #Insertion at the head of the DLL\n",
    "        temp = Message(*t)\n",
    "        temp.next = self.head\n",
    "        self.head.prev = temp\n",
    "        self.head = temp\n",
    "        self.count += 1\n",
    "        return self.count\n",
    "    \n",
    "    def dequeue(self): #Deletion at the tail of the DLL\n",
    "        if self.count == 0 : raise Exception(\"Delete attempted on an empty queue\")\n",
    "        if self.count > 1: \n",
    "            temp = self.rear.prev #One step prev from rear/tail node goes to the element which is to be deleted\n",
    "            temp.prev.next = temp.next\n",
    "            self.rear.prev = temp.prev\n",
    "            self.count -= 1\n",
    "        else: #Single element, hence head and tail are same hence we have to move only the head\n",
    "            temp = self.head\n",
    "            self.head = self.head.next\n",
    "            self.count -= 1\n",
    "        return temp\n"
   ]
  },
  {
   "cell_type": "code",
   "execution_count": 3,
   "metadata": {},
   "outputs": [
    {
     "name": "stdout",
     "output_type": "stream",
     "text": [
      "<5:6,hi>\n",
      "<5:6,hi>\n",
      "<8:7,hi><7:6,hi><6:5,hi>\n",
      "<8:7,hi><7:6,hi>\n",
      "<8:88,have we met?><77:88,hi><8:7,hi>\n",
      "<8:88,have we met?><77:88,hi>\n",
      "<5:1,how are you><44:22,hi><8:88,have we met?>\n",
      "<5:1,how are you><44:22,hi>\n"
     ]
    },
    {
     "data": {
      "text/plain": [
       "2"
      ]
     },
     "execution_count": 3,
     "metadata": {},
     "output_type": "execute_result"
    }
   ],
   "source": [
    "x1 = Queue()\n",
    "x1.enqueue(5,6,'hi')\n",
    "x1.display()\n",
    "t = x1.dequeue()\n",
    "print(t)\n",
    "x1.enqueue(6,5,'hi')\n",
    "x1.enqueue(7,6,'hi')\n",
    "x1.enqueue(8,7,'hi')\n",
    "x1.display()\n",
    "x1.dequeue()\n",
    "x1.display()\n",
    "x1.enqueue(77,88,'hi')\n",
    "x1.enqueue(8,88,'have we met?')\n",
    "x1.dequeue()\n",
    "x1.display()\n",
    "x1.dequeue()\n",
    "x1.display()\n",
    "x1.dequeue()\n",
    "x1.enqueue(44,22,'hi')\n",
    "x1.enqueue(5,1,'how are you')\n",
    "x1.display()\n",
    "x1.dequeue()\n",
    "x1.display()"
   ]
  },
  {
   "cell_type": "code",
   "execution_count": 4,
   "metadata": {},
   "outputs": [],
   "source": [
    "class TextMessenger:\n",
    "    def __init__(self,idnty):\n",
    "        self.inbox = Queue()\n",
    "        self.outbox = Queue()\n",
    "        self.contacts = []\n",
    "        self.whoami = idnty\n",
    "    \n",
    "    def add_contact(self,idnty):\n",
    "        self.contacts.append(idnty)\n",
    "    \n",
    "    def refresh(self):\n",
    "        for c in self.contacts:\n",
    "            while c.outbox.count > 0 :\n",
    "                temp = c.outbox.dequeue() \n",
    "                self.inbox.enqueue(temp.fromname, temp.toname, temp.content)\n",
    "\n",
    "    def dispatch(self,towhom, msg):\n",
    "        if towhom not in self.contacts : raise Exception(\"Cannot create message to unknown contacts\")\n",
    "        self.outbox.enqueue(self.whoami,towhom,msg)\n",
    "    \n",
    "    def display_inbox(self):\n",
    "        print(self.whoami,\"Inbox\")\n",
    "        self.inbox.display()\n",
    "\n",
    "    def display_outbox(self):\n",
    "        print(self.whoami,\"Outbox\")\n",
    "        self.outbox.display()\n",
    "    \n",
    "    def __repr__(self) -> str:\n",
    "        return self.whoami"
   ]
  },
  {
   "cell_type": "code",
   "execution_count": 5,
   "metadata": {},
   "outputs": [
    {
     "name": "stdout",
     "output_type": "stream",
     "text": [
      "Harry Outbox\n",
      "<Harry:Larry,hi>\n",
      "Larry Inbox\n",
      "<Empty>\n",
      "Larry Inbox\n",
      "<Harry:Larry,hi>\n",
      "Harry Outbox\n",
      "<Empty>\n"
     ]
    }
   ],
   "source": [
    "users = [TextMessenger('Harry'), TextMessenger('Larry'), TextMessenger('Ryan'), TextMessenger('Matt'), TextMessenger('Prat')]\n",
    "\n",
    "users[0].add_contact(users[1])\n",
    "users[1].add_contact(users[0])\n",
    "\n",
    "users[0].dispatch(users[1],'hi')\n",
    "users[0].display_outbox()\n",
    "\n",
    "users[1].display_inbox()\n",
    "users[1].refresh()\n",
    "users[1].display_inbox()\n",
    "\n",
    "users[0].display_outbox()"
   ]
  },
  {
   "cell_type": "code",
   "execution_count": null,
   "metadata": {},
   "outputs": [],
   "source": []
  }
 ],
 "metadata": {
  "kernelspec": {
   "display_name": "Python 3",
   "language": "python",
   "name": "python3"
  },
  "language_info": {
   "codemirror_mode": {
    "name": "ipython",
    "version": 3
   },
   "file_extension": ".py",
   "mimetype": "text/x-python",
   "name": "python",
   "nbconvert_exporter": "python",
   "pygments_lexer": "ipython3",
   "version": "3.8.5"
  }
 },
 "nbformat": 4,
 "nbformat_minor": 5
}
