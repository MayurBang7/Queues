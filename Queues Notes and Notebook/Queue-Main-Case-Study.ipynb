{
 "cells": [
  {
   "cell_type": "markdown",
   "metadata": {},
   "source": [
    "# <font color='blue'> Table Of Contents </font>\n",
    "\n",
    "# <font color='blue'> Introduction to Queue </font>\n",
    "\n",
    "## <font color='blue'> Queue class implementation </font>\n",
    "\n",
    "## <font color='blue'> Messaging service simulation </font> \n",
    "\n",
    "## <font color='blue'> Queue Case study \n",
    "    \n",
    "* Operating System Schedulers </font>\n",
    "\n",
    "# <font color='blue'> Source Code </font>\n"
   ]
  },
  {
   "cell_type": "markdown",
   "metadata": {},
   "source": [
    "# <font color='blue'> Introduction</font>\n",
    "\n",
    "\n",
    "In computer science, a queue is a collection of entities that are maintained in a sequence and can be modified by the addition of entities at one end of the sequence and the removal of entities from the other end of the sequence. \n",
    "\n",
    "By convention, the end of the sequence at which elements are added is called the back, tail, or rear of the queue, and the end at which elements are removed is called the head or front of the queue, analogously to the words used when people line up to wait for goods or services. The operation of adding an element to the rear of the queue is known as enqueue, and the operation of removing an element from the front is known as dequeue. \n",
    "\n",
    "Other operations may also be allowed, often including a peek or front operation that returns the value of the next element to be dequeued without dequeuing it.\n",
    "\n",
    "\n",
    "The operations of a queue make it a first-in-first-out (FIFO) data structure. In a FIFO data structure, the first element added to the queue will be the first one to be removed. This is equivalent to the requirement that once a new element is added, all elements that were added before have to be removed before the new element can be removed. \n",
    "\n",
    "A queue is an example of a linear data structure."
   ]
  },
  {
   "cell_type": "markdown",
   "metadata": {},
   "source": [
    "# <font color='blue'> Implementation </font>\n",
    "    \n",
    "    \n",
    "There are several efficient implementations of FIFO queues. An efficient implementation is one that can perform the operations—en-queuing and de-queuing—in O(1) time.\n",
    "\n",
    "## <font color='blue'> Array </font>\n",
    "\n",
    "1. A deque implemented using a modified dynamic array, or the usual static array.\n",
    "\n",
    "## <font color='blue'> Linked list </font>\n",
    "\n",
    "1. A regular singly linked list only has efficient insertion and deletion at one end. However, a small modification—keeping a pointer to the last node in addition to the first one—will enable it to implement an efficient queue.\n",
    "\n",
    "2. A doubly linked list(DLL) has O(1) insertion and deletion at both ends, so it is a natural choice for queues. <i> We will implement this approach.</i> \n",
    "\n",
    "We can use an approach of inserting at the head of the DLL when enqueue happens and deleting at the tail of the DLL when dequeue happens. Below we are implementing a queue that holds message kind of data."
   ]
  },
  {
   "cell_type": "markdown",
   "metadata": {},
   "source": [
    "## <font color='blue'> Messaging service </font>\n",
    "\n",
    "Queues provide services in computer science, transport, and operations research where various entities such as data, objects, persons, or events are stored and held to be processed later. In these contexts, the queue performs the function of a **buffer**.<br/>\n",
    "\n",
    "\n",
    "In this context, imagine a text messaging service. Since this is depending on the network for sending and recieving messages hence we need a buffer to store the user incoming/outgoing messages. \n",
    "\n",
    "For this purpose we can have a queue. <br/> The user writes a message to one of his/her contact and **dispatches** it. This message goes to the outbox queue. The reciever **refresh** their inbox and all the messages from the outbox of his/her contacts will flow into the inbox queue.\n",
    "\n",
    "Lets understand the problem statement and required features of the application. Our messenger application should have following properties. \n",
    "\n",
    "Our applications should be able to Simulate a Text Messenger that\n",
    "\n",
    "* Has:\n",
    "    * Inbox - a Queue of incoming messages - to be populated into contact pages\n",
    "    * Outbox - a Queue of outgoing messages - to be dispatched, and populated into contact pages\n",
    "        \n",
    "* Five contact pages - each has:\n",
    "    * Full name\n",
    "    * Phone number\n",
    "    * Current number of received messages\n",
    "    * Current number of dispatched messages\n",
    "\n",
    "* Sequential execution - Inbox and Outbox checked and messages taken in / dispatched by turn - in a while loop\n",
    "\n",
    "* Simulate messages coming into the Inbox with a refresh() method\n",
    "\n",
    "* Simulate messages being dispatched from the Outbox with a dispatch() method\n",
    "\n",
    "\n",
    "To implement this application, we will be using queue data structure. We will be using Linked List approach to implement the Queue data structure. \n",
    "\n",
    "Lets have a look at the designed class and its properties along with associated methods. "
   ]
  },
  {
   "cell_type": "markdown",
   "metadata": {},
   "source": [
    "### <font color='blue'> Message Class </font>\n",
    "\n",
    "In this class we are designing the structure to store the some important information that any message can have. \n",
    "\n",
    "* Sender and receiver data\n",
    "* Content of the message \n",
    "* To move from one message to another next and previous message address\n",
    "\n",
    "This class should work as a Node structure and will keep the details of the message. "
   ]
  },
  {
   "cell_type": "code",
   "execution_count": null,
   "metadata": {},
   "outputs": [],
   "source": [
    "class Message:\n",
    "    def __init__(self, fromaddr, toaddr, content):\n",
    "        self.fromname = fromaddr\n",
    "        self.toname = toaddr\n",
    "        self.content = content\n",
    "        self.next = None\n",
    "        self.prev = None\n",
    "    \n",
    "    def __str__(self):\n",
    "        return \"<{}:{},{}>\".format(self.fromname, self.toname, self.content)\n"
   ]
  },
  {
   "cell_type": "markdown",
   "metadata": {},
   "source": [
    "### <font color='blue'> Queue Class </font>\n",
    "\n",
    "Lets look at the implementation of Queue class based on the application requirement. Every time an object is created for this class a new Message buffer will be created and it will be used to navigate and move across different messages available in the inbox or outbox folder of the messenger service. \n",
    "\n",
    "We have implemented few methods in the class to mimic the behavior of Queue data structure. These methods are listed below: \n",
    "\n",
    "* Enqueue\n",
    "* Dequeue\n",
    "* Display\n",
    "\n",
    "Lets understand these methods individually. "
   ]
  },
  {
   "cell_type": "code",
   "execution_count": 5,
   "metadata": {
    "scrolled": true
   },
   "outputs": [
    {
     "name": "stdout",
     "output_type": "stream",
     "text": [
      "<5:6,hi>\n",
      "<5:6,hi>\n",
      "<8:7,hi><7:6,hi><6:5,hi>\n",
      "<8:7,hi><7:6,hi>\n",
      "<8:88,have we met?><77:88,hi><8:7,hi>\n",
      "<8:88,have we met?><77:88,hi>\n",
      "<5:1,how are you><44:22,hi><8:88,have we met?>\n",
      "<5:1,how are you><44:22,hi>\n"
     ]
    },
    {
     "data": {
      "text/plain": [
       "2"
      ]
     },
     "execution_count": 5,
     "metadata": {},
     "output_type": "execute_result"
    }
   ],
   "source": [
    "class Queue:\n",
    "    def __init__(self):\n",
    "        self.head = Message(-1,-1,\"dummy\")\n",
    "        #This node is fixed as the rear of the queue since subsequent insertions happen at head we need to maintain the tail \n",
    "        self.rear = self.head \n",
    "        self.count = 0\n",
    "    \n",
    "    def display(self):\n",
    "        if self.count == 0 : \n",
    "            print(\"<Empty>\")\n",
    "            return self.count\n",
    "\n",
    "        curr = self.head\n",
    "        while curr != self.rear:\n",
    "            print(curr,end='')\n",
    "            curr = curr.next\n",
    "        print()\n",
    "        return self.count\n",
    "    \n",
    "    def enqueue(self,*t): #Insertion at the head of the DLL\n",
    "        temp = Message(*t)\n",
    "        temp.next = self.head\n",
    "        self.head.prev = temp\n",
    "        self.head = temp\n",
    "        self.count += 1\n",
    "        return self.count\n",
    "    \n",
    "    def dequeue(self): #Deletion at the tail of the DLL\n",
    "        if self.count == 0 : raise Exception(\"Delete attempted on an empty queue\")\n",
    "        if self.count > 1: \n",
    "            temp = self.rear.prev #One step prev from rear/tail node goes to the element which is to be deleted\n",
    "            temp.prev.next = temp.next\n",
    "            self.rear.prev = temp.prev\n",
    "            self.count -= 1\n",
    "        else: #Single element, hence head and tail are same hence we have to move only the head\n",
    "            temp = self.head\n",
    "            self.head = self.head.next\n",
    "            self.count -= 1\n",
    "        return temp\n"
   ]
  },
  {
   "cell_type": "markdown",
   "metadata": {},
   "source": [
    "### <font color='blue'> Simulation of Queue Class </font>\n",
    "\n",
    "Lets look at the simulation of the above implemented Queue and its behavior through the created object and various method calls. \n",
    "\n",
    "We are first creating an object and then calling various methods on the newly created Queue object. "
   ]
  },
  {
   "cell_type": "code",
   "execution_count": null,
   "metadata": {},
   "outputs": [],
   "source": [
    "x1 = Queue()\n",
    "x1.enqueue(5,6,'hi')\n",
    "x1.display()\n",
    "t = x1.dequeue()\n",
    "print(t)\n",
    "x1.enqueue(6,5,'hi')\n",
    "x1.enqueue(7,6,'hi')\n",
    "x1.enqueue(8,7,'hi')\n",
    "x1.display()\n",
    "x1.dequeue()\n",
    "x1.display()\n",
    "x1.enqueue(77,88,'hi')\n",
    "x1.enqueue(8,88,'have we met?')\n",
    "x1.dequeue()\n",
    "x1.display()\n",
    "x1.dequeue()\n",
    "x1.display()\n",
    "x1.dequeue()\n",
    "x1.enqueue(44,22,'hi')\n",
    "x1.enqueue(5,1,'how are you')\n",
    "x1.display()\n",
    "x1.dequeue()\n",
    "x1.display()"
   ]
  },
  {
   "cell_type": "markdown",
   "metadata": {},
   "source": [
    "### <font color='blue'> TextMessenger Class </font>\n",
    "\n",
    "In the above simulation and created class we have just designed the outline and implemented some simulation over the Queue data structure. We are yet to design our Inbox and Outbox structure for our TextMessenger class. \n",
    "\n",
    "To mimic the behavior of the TextMessenger and inbox and outbox buffer of the messenger, lets design the class and methods for that class. \n",
    "\n",
    "We will be implementing several methods mentioned below, that will have certain features. Lets have a look at the features. \n",
    "\n",
    "* add_contact() \n",
    "    This method will help us in creating and adding the contacts for our application. \n",
    "    The idea is that the every user who wants to send or receive a message should be able to create a contact. \n",
    "    \n",
    "* refresh()\n",
    "    * To check if more messages are received, this feature will be utilized. \n",
    "    \n",
    "* dispatch()\n",
    "    * Dispatch method will be used to implement the feature if sending messages to other contacts. \n",
    "    \n",
    "* display_inbox()\n",
    "    * Displaying the content or list of messages available in the inbox. \n",
    "    \n",
    "* display_outbox()\n",
    "    * Displaying the content or list of messages available in the outbox. \n"
   ]
  },
  {
   "cell_type": "code",
   "execution_count": 6,
   "metadata": {},
   "outputs": [],
   "source": [
    "class TextMessenger:\n",
    "    def __init__(self,idnty):\n",
    "        self.inbox = Queue()\n",
    "        self.outbox = Queue()\n",
    "        self.contacts = []\n",
    "        self.whoami = idnty\n",
    "    \n",
    "    def add_contact(self,idnty):\n",
    "        self.contacts.append(idnty)\n",
    "    \n",
    "    def refresh(self):\n",
    "        for c in self.contacts:\n",
    "            while c.outbox.count > 0 :\n",
    "                temp = c.outbox.dequeue() \n",
    "                self.inbox.enqueue(temp.fromname, temp.toname, temp.content)\n",
    "\n",
    "    def dispatch(self,towhom, msg):\n",
    "        if towhom not in self.contacts : raise Exception(\"Cannot create message to unknown contacts\")\n",
    "        self.outbox.enqueue(self.whoami,towhom,msg)\n",
    "    \n",
    "    def display_inbox(self):\n",
    "        print(self.whoami,\"Inbox\")\n",
    "        self.inbox.display()\n",
    "\n",
    "    def display_outbox(self):\n",
    "        print(self.whoami,\"Outbox\")\n",
    "        self.outbox.display()\n",
    "    \n",
    "    def __repr__(self) -> str:\n",
    "        return self.whoami"
   ]
  },
  {
   "cell_type": "markdown",
   "metadata": {},
   "source": [
    "### <font color='blue'> Simulation of Messenger </font>"
   ]
  },
  {
   "cell_type": "code",
   "execution_count": 1,
   "metadata": {},
   "outputs": [
    {
     "ename": "NameError",
     "evalue": "name 'TextMessenger' is not defined",
     "output_type": "error",
     "traceback": [
      "\u001b[1;31m---------------------------------------------------------------------------\u001b[0m",
      "\u001b[1;31mNameError\u001b[0m                                 Traceback (most recent call last)",
      "\u001b[1;32m<ipython-input-1-e1bc63263d88>\u001b[0m in \u001b[0;36m<module>\u001b[1;34m\u001b[0m\n\u001b[1;32m----> 1\u001b[1;33m \u001b[0musers\u001b[0m \u001b[1;33m=\u001b[0m \u001b[1;33m[\u001b[0m\u001b[0mTextMessenger\u001b[0m\u001b[1;33m(\u001b[0m\u001b[1;34m'Harry'\u001b[0m\u001b[1;33m)\u001b[0m\u001b[1;33m,\u001b[0m \u001b[0mTextMessenger\u001b[0m\u001b[1;33m(\u001b[0m\u001b[1;34m'Larry'\u001b[0m\u001b[1;33m)\u001b[0m\u001b[1;33m,\u001b[0m \u001b[0mTextMessenger\u001b[0m\u001b[1;33m(\u001b[0m\u001b[1;34m'Ryan'\u001b[0m\u001b[1;33m)\u001b[0m\u001b[1;33m,\u001b[0m \u001b[0mTextMessenger\u001b[0m\u001b[1;33m(\u001b[0m\u001b[1;34m'Matt'\u001b[0m\u001b[1;33m)\u001b[0m\u001b[1;33m,\u001b[0m \u001b[0mTextMessenger\u001b[0m\u001b[1;33m(\u001b[0m\u001b[1;34m'Prat'\u001b[0m\u001b[1;33m)\u001b[0m\u001b[1;33m]\u001b[0m\u001b[1;33m\u001b[0m\u001b[1;33m\u001b[0m\u001b[0m\n\u001b[0m\u001b[0;32m      2\u001b[0m \u001b[1;33m\u001b[0m\u001b[0m\n\u001b[0;32m      3\u001b[0m \u001b[0musers\u001b[0m\u001b[1;33m[\u001b[0m\u001b[1;36m0\u001b[0m\u001b[1;33m]\u001b[0m\u001b[1;33m.\u001b[0m\u001b[0madd_contact\u001b[0m\u001b[1;33m(\u001b[0m\u001b[0musers\u001b[0m\u001b[1;33m[\u001b[0m\u001b[1;36m1\u001b[0m\u001b[1;33m]\u001b[0m\u001b[1;33m)\u001b[0m\u001b[1;33m\u001b[0m\u001b[1;33m\u001b[0m\u001b[0m\n\u001b[0;32m      4\u001b[0m \u001b[0musers\u001b[0m\u001b[1;33m[\u001b[0m\u001b[1;36m1\u001b[0m\u001b[1;33m]\u001b[0m\u001b[1;33m.\u001b[0m\u001b[0madd_contact\u001b[0m\u001b[1;33m(\u001b[0m\u001b[0musers\u001b[0m\u001b[1;33m[\u001b[0m\u001b[1;36m0\u001b[0m\u001b[1;33m]\u001b[0m\u001b[1;33m)\u001b[0m\u001b[1;33m\u001b[0m\u001b[1;33m\u001b[0m\u001b[0m\n\u001b[0;32m      5\u001b[0m \u001b[1;33m\u001b[0m\u001b[0m\n",
      "\u001b[1;31mNameError\u001b[0m: name 'TextMessenger' is not defined"
     ]
    }
   ],
   "source": [
    "users = [TextMessenger('Harry'), TextMessenger('Larry'), TextMessenger('Ryan'), TextMessenger('Matt'), TextMessenger('Prat')]\n",
    "\n",
    "users[0].add_contact(users[1])\n",
    "users[1].add_contact(users[0])\n",
    "\n",
    "users[0].dispatch(users[1],'hi')\n",
    "users[0].display_outbox()\n",
    "\n",
    "users[1].display_inbox()\n",
    "users[1].refresh()\n",
    "users[1].display_inbox()\n",
    "\n",
    "users[0].display_outbox()"
   ]
  },
  {
   "cell_type": "markdown",
   "metadata": {},
   "source": [
    "# <font color='blue'> Operating System Schedulers </font>\n",
    "\n",
    "Every process that needs to be be executed, must reside in RAM and process that need to be executed must have CPU access. In single processor systems, the CPU can handle only one task at a time, so what if there are too many processes that are ready to be executed? \n",
    "\n",
    "The answer is that the operating system then schedules the process accordingly, so that the processor will be able to execute all the process. \n",
    "\n",
    "\"Scheduling is an activity that will be done by the operating system component called the Scheduler. The purpose of the scheduler, is to choose processes from the list of ready processes\". Dispatcher id: the component of the Operating System that dispatches the ready process to the processor, so that it can be executed.\n",
    "\n",
    "Scheduling algorithms are listed below:\n",
    "\n",
    "    a)First Come First Serve.\n",
    "\n",
    "    b) Shortest Job First.\n",
    "\n",
    "    c) Priority Based Scheduling.\n",
    "\n",
    "    d) Round Robin.\n",
    "\n",
    "Lets see, one by one, what we mean by these algorithms.\n",
    "\n",
    "    a) First Come First Serve: As meaning suggests, the process that will come first will be served first by the processor. This algorithm is simple and can be easily implemented. To implement this FIFO is maintained. FIFO(First in; First Out). The process site in front of ready queue(The queue contains processes that can be executed by CPU) will be executed first. But the disadvantage of this algorithm is that average waiting time for any process is longer.\n",
    "\n",
    "    b) Shortest Job First: As the name suggests the processor executes the job which requires the shortest execution time. Even when there are 24 or more processes in the ready queue the processor would pick the 24th process if it was the one that needed less time.\n",
    "\n",
    "    c) Priority based scheduling: Every process comes with an additional data point that comes with priority of the process. The scheduling of the processes will take place according to the received priority. \n",
    "\n",
    "    d) Round robin: In this algorithm, to give every process a chance of execution and reduce the waiting time, every process will be executed for some duration and then will sent into waiting state. Similarly a different process will get chance to execute and this will happen periodically till all the execution is completed. \n",
    "\n",
    "There are different queues of processes (in an operating system):\n",
    "\n",
    "    * Job Queue: Each new process goes into the job queue. Processes in the job queue reside on mass storage and await the allocation of main memory.\n",
    "\n",
    "    * Ready Queue: The set of all processes that are in main memory and are waiting for CPU time is kept in the ready queue.\n",
    "\n",
    "    * Waiting (Device) Queues: The set of processes waiting for allocation of certain I/O devices is kept in the waiting (device) queue.\n",
    "\n",
    "\n",
    "The short-term scheduler (also known as CPU scheduling) selects a process from the ready queue and yields control of the CPU to the process.\n"
   ]
  },
  {
   "cell_type": "code",
   "execution_count": null,
   "metadata": {},
   "outputs": [],
   "source": []
  }
 ],
 "metadata": {
  "kernelspec": {
   "display_name": "Python 3",
   "language": "python",
   "name": "python3"
  },
  "language_info": {
   "codemirror_mode": {
    "name": "ipython",
    "version": 3
   },
   "file_extension": ".py",
   "mimetype": "text/x-python",
   "name": "python",
   "nbconvert_exporter": "python",
   "pygments_lexer": "ipython3",
   "version": "3.8.5"
  }
 },
 "nbformat": 4,
 "nbformat_minor": 5
}
